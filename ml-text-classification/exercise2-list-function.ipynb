{
 "cells": [
  {
   "cell_type": "markdown",
   "metadata": {},
   "source": [
    "# Exercise 2: List and Function"
   ]
  },
  {
   "cell_type": "markdown",
   "metadata": {},
   "source": [
    "Complete the function `foo()` below. Read the function documentation (surraunded by \"\"\" and \"\"\". ) carefully. \n",
    "\n"
   ]
  },
  {
   "cell_type": "code",
   "execution_count": null,
   "metadata": {},
   "outputs": [],
   "source": [
    "def foo(int_a, int_b, int_c):\n",
    "    \"\"\"\n",
    "    This function (1) receive three integers,\n",
    "    (2) add 1 to each integer and print the reuslt\n",
    "    (3) return a list consisting of three integers added 1.\n",
    "    For example, \n",
    "    foo(1,2,3) should print 2,3,4 and return [2,3,4].\n",
    "\n",
    "    :param int_a: integer\n",
    "    :param int_b: integer\n",
    "    :param int_c: integer\n",
    "    :return: a list with three integers added 1.\n",
    "    \"\"\"\n",
    "    # YOUR CODE FROM HERE ------------\n",
    "    pass # Delete this when you write your code.\n"
   ]
  }
 ],
 "metadata": {
  "kernelspec": {
   "display_name": "Python 3.8.3 ('base')",
   "language": "python",
   "name": "python3"
  },
  "language_info": {
   "name": "python",
   "version": "3.8.3"
  },
  "orig_nbformat": 4,
  "vscode": {
   "interpreter": {
    "hash": "5a5de30065858b2a3304bed5046c2b0b4c4d390e344cc17b595772fa0885098f"
   }
  }
 },
 "nbformat": 4,
 "nbformat_minor": 2
}
