{
 "cells": [
  {
   "cell_type": "code",
   "execution_count": null,
   "metadata": {},
   "outputs": [],
   "source": [
    "# NLTK 3.4 documentation\n",
    "# https://www.nltk.org/index.html\n",
    "# https://www.nltk.org/_modules/nltk/stem/snowball.html\n",
    "\n",
    "import nltk\n",
    "from nltk.stem.snowball import SnowballStemmer\n",
    "from nltk.tokenize import sent_tokenize, word_tokenize\n",
    "\n"
   ]
  },
  {
   "cell_type": "code",
   "execution_count": null,
   "metadata": {},
   "outputs": [],
   "source": [
    "# check languages it provides\n",
    "print(SnowballStemmer.languages)"
   ]
  },
  {
   "cell_type": "code",
   "execution_count": null,
   "metadata": {},
   "outputs": [],
   "source": [
    "nltk.download() # Download `punkt`, `stopwords`"
   ]
  },
  {
   "cell_type": "code",
   "execution_count": null,
   "metadata": {},
   "outputs": [],
   "source": [
    "\n",
    "# test a german sentence\n",
    "someSentence = \"Veränderungen über einen Walzer\"\n",
    "tokens = word_tokenize(someSentence,'german')\n",
    "print(tokens)\n",
    "\n",
    "\n",
    "# test german stemmer\n",
    "germanStemmer=SnowballStemmer(\"german\") #set up\n",
    "germanStemmer.stem(\"haben\") #check arbitrary words\n",
    "\n",
    "\n",
    "# test a english sentence\n",
    "someSentence = \"Her flight was canceled.\"\n",
    "tokens = word_tokenize(someSentence)\n",
    "print(tokens)\n",
    "\n",
    "\n",
    "# test english stemmer\n",
    "englishStemmer=SnowballStemmer(\"english\")\n",
    "#englishStemmer=SnowballStemmer(\"english\", ignore_stopwords=True) # not to stem stop words\n",
    "englishStemmer.stem(\"beautifully\")\n",
    "\n",
    "\n",
    "\n",
    "\n",
    "\n",
    "\n"
   ]
  }
 ],
 "metadata": {
  "kernelspec": {
   "display_name": "base",
   "language": "python",
   "name": "base"
  },
  "language_info": {
   "codemirror_mode": {
    "name": "ipython",
    "version": 3
   },
   "file_extension": ".py",
   "mimetype": "text/x-python",
   "name": "python",
   "nbconvert_exporter": "python",
   "pygments_lexer": "ipython3",
   "version": "3.8.3"
  }
 },
 "nbformat": 4,
 "nbformat_minor": 4
}
