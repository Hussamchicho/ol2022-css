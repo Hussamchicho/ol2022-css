{
 "cells": [
  {
   "cell_type": "code",
   "execution_count": 1,
   "metadata": {},
   "outputs": [
    {
     "name": "stdout",
     "output_type": "stream",
     "text": [
      "the number is: 2.5\n"
     ]
    }
   ],
   "source": [
    "import re\n",
    "def get_float(s):\n",
    "    m = re.search('\\d+.\\d+', s)\n",
    "    if m:\n",
    "        return float(m.group(0))\n",
    "print('the number is: {}'.format(get_float('some text 2.5')))"
   ]
  },
  {
   "cell_type": "markdown",
   "metadata": {},
   "source": [
    "# Regural Expression (regexp)\n",
    "* it describes a set of strings\n",
    "* we say a string $s$ is matched by the regexp $r$ and the regexp $r$ matches string $s$\n",
    "* s = ~r"
   ]
  },
  {
   "cell_type": "markdown",
   "metadata": {},
   "source": [
    "## Characters with special meanings:\n",
    "- **`.`**　: (a dot) matches any single character\n",
    "- **`r*`**:　arbitrary repetition of expression `r`(could be 0)\n",
    "- **`(r1|r2|...|ri)`**: matches one of the alternatives `r1...ri`\n",
    "- **`r?`**:　`(r|)`\n",
    "- **`r+`**:　`rr*`\n",
    "- **`[abc]`**:　`(a|b|c)` Note: special characters loose their special meaning\n",
    "- **`[^abc]`**:　negated character range: everything except `a, b` or `c`\n",
    "- **`ˆ,$`**:　line start, line end. `^[0-9.]*`: lines with only digits and dots"
   ]
  },
  {
   "cell_type": "markdown",
   "metadata": {},
   "source": [
    "## Character classes:\n",
    "- **`\\w, \\W`**: word character, anything **BUT** word character\n",
    "- **`\\d, \\D`**:　decimal digit, anything **BUT** decimal digits\n",
    "- **`\\s, \\S`**:　white space character, anything **BUT** whitespace character"
   ]
  },
  {
   "cell_type": "markdown",
   "metadata": {},
   "source": [
    "### More info: https://docs.python.org/3/library/re.html"
   ]
  },
  {
   "cell_type": "code",
   "execution_count": 7,
   "metadata": {},
   "outputs": [
    {
     "name": "stdout",
     "output_type": "stream",
     "text": [
      "<_sre.SRE_Match object; span=(0, 6), match='02.234'>\n"
     ]
    }
   ],
   "source": [
    "m = re.search(r'\\d+\\.\\d+', '02.234')  #\\. : escape special meaning\n",
    "print(m)"
   ]
  },
  {
   "cell_type": "code",
   "execution_count": 8,
   "metadata": {},
   "outputs": [
    {
     "name": "stdout",
     "output_type": "stream",
     "text": [
      "<_sre.SRE_Match object; span=(1, 4), match='2.3'>\n"
     ]
    }
   ],
   "source": [
    "m = re.search(r'(\\d|[1-9]\\d+)\\.\\d+', '02.3') # avoid 0x.xxx ...\n",
    "print(m)"
   ]
  },
  {
   "cell_type": "code",
   "execution_count": 4,
   "metadata": {},
   "outputs": [
    {
     "name": "stdout",
     "output_type": "stream",
     "text": [
      "<_sre.SRE_Match object; span=(0, 1), match='4'>\n"
     ]
    }
   ],
   "source": [
    "m = re.search(r'(\\d|[1-9]\\d+)(\\.\\d+)?','4') # now it matchs interger as well\n",
    "print(m)"
   ]
  },
  {
   "cell_type": "code",
   "execution_count": 10,
   "metadata": {},
   "outputs": [
    {
     "name": "stdout",
     "output_type": "stream",
     "text": [
      "<_sre.SRE_Match object; span=(0, 2), match='-4'>\n"
     ]
    }
   ],
   "source": [
    "m = re.search(r'[+-]?(\\d|[1-9]\\d+)(\\.\\d+)?','-4') # now it matches -X or +X\n",
    "print(m)"
   ]
  },
  {
   "cell_type": "code",
   "execution_count": 11,
   "metadata": {},
   "outputs": [
    {
     "name": "stdout",
     "output_type": "stream",
     "text": [
      "<_sre.SRE_Match object; span=(0, 17), match='some.guy@uni.mail'>\n"
     ]
    }
   ],
   "source": [
    "m = re.search(r'\\w+[\\w.]\\w+@\\w+\\.\\w+','some.guy@uni.mail')\n",
    "print(m)"
   ]
  },
  {
   "cell_type": "markdown",
   "metadata": {
    "collapsed": true
   },
   "source": [
    "## `re`"
   ]
  },
  {
   "cell_type": "markdown",
   "metadata": {},
   "source": [
    "- `search`: search for a regular expression anywhere in the string. Returns `None` or `Match` pbject giving access to the captured group.  \n",
    "- `re.search(pattern, string, flags=0)`"
   ]
  },
  {
   "cell_type": "code",
   "execution_count": 11,
   "metadata": {},
   "outputs": [
    {
     "name": "stdout",
     "output_type": "stream",
     "text": [
      "100 kilomiter\n",
      "0\n",
      "13\n",
      "(0, 13)\n"
     ]
    }
   ],
   "source": [
    "import re\n",
    "\n",
    "m = re.search('(\\d+) (\\w+)', '100 kilomiter')\n",
    "if m:\n",
    "    print(m.group())  # match result\n",
    "    print(m.start())  # start position\n",
    "    print(m.end())    # end position\n",
    "    print(m.span())   # (start , end) position"
   ]
  },
  {
   "cell_type": "code",
   "execution_count": 12,
   "metadata": {},
   "outputs": [
    {
     "name": "stdout",
     "output_type": "stream",
     "text": [
      "100 kilometer\n"
     ]
    }
   ],
   "source": [
    "pattern = re.compile(r'(\\d+) (\\w+)') # when you use pattern multiple time, this way is faster\n",
    "m = pattern.search('100 kilometer')\n",
    "print(m.group())"
   ]
  },
  {
   "cell_type": "markdown",
   "metadata": {},
   "source": [
    "- `re.sub` : substitude occurrences of a pattern\n",
    "- `re.sub(pattern, repl, string, count=0)`"
   ]
  },
  {
   "cell_type": "code",
   "execution_count": 13,
   "metadata": {},
   "outputs": [
    {
     "name": "stdout",
     "output_type": "stream",
     "text": [
      " WORDS123 WORDS456 WORDS\n"
     ]
    }
   ],
   "source": [
    "text = \"abc123def456efg\"\n",
    "newtext = re.sub(r'[a-z]+', ' WORDS', text)\n",
    "print(newtext)"
   ]
  },
  {
   "cell_type": "markdown",
   "metadata": {},
   "source": [
    "### `flags`\n",
    "- `re.IGNORECASE` : case-insensitive matching\n",
    "- `re.DOTALL` : the dot also matches newlines"
   ]
  },
  {
   "cell_type": "code",
   "execution_count": 14,
   "metadata": {},
   "outputs": [
    {
     "name": "stdout",
     "output_type": "stream",
     "text": [
      "<_sre.SRE_Match object; span=(0, 3), match='CAt'>\n"
     ]
    }
   ],
   "source": [
    "m = re.search(r'cat','CAt',re.IGNORECASE)\n",
    "print(m)"
   ]
  },
  {
   "cell_type": "code",
   "execution_count": 15,
   "metadata": {},
   "outputs": [
    {
     "name": "stdout",
     "output_type": "stream",
     "text": [
      "I love c \n",
      "at\n",
      "<_sre.SRE_Match object; span=(7, 12), match='c \\nat'>\n"
     ]
    }
   ],
   "source": [
    "text = 'I love c \\nat'\n",
    "print(text)\n",
    "m = re.search(r'c..at',text, re.DOTALL)\n",
    "print(m)"
   ]
  },
  {
   "cell_type": "code",
   "execution_count": null,
   "metadata": {
    "collapsed": true
   },
   "outputs": [],
   "source": []
  }
 ],
 "metadata": {
  "kernelspec": {
   "display_name": "Python 3",
   "language": "python",
   "name": "python3"
  },
  "language_info": {
   "codemirror_mode": {
    "name": "ipython",
    "version": 3
   },
   "file_extension": ".py",
   "mimetype": "text/x-python",
   "name": "python",
   "nbconvert_exporter": "python",
   "pygments_lexer": "ipython3",
   "version": "3.8.3"
  }
 },
 "nbformat": 4,
 "nbformat_minor": 2
}
