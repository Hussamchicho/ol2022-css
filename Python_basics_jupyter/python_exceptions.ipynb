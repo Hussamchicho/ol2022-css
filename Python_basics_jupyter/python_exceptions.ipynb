{
 "cells": [
  {
   "cell_type": "markdown",
   "metadata": {},
   "source": [
    "# Handling exceptions\n",
    "### Python Build-in Exceptions: https://docs.python.org/3/library/exceptions.html#BaseException "
   ]
  },
  {
   "cell_type": "code",
   "execution_count": 1,
   "metadata": {},
   "outputs": [
    {
     "ename": "NameError",
     "evalue": "name 'Print' is not defined",
     "output_type": "error",
     "traceback": [
      "\u001b[0;31m---------------------------------------------------------------------------\u001b[0m",
      "\u001b[0;31mNameError\u001b[0m                                 Traceback (most recent call last)",
      "\u001b[0;32m<ipython-input-1-7680e0fce63f>\u001b[0m in \u001b[0;36m<module>\u001b[0;34m()\u001b[0m\n\u001b[1;32m      1\u001b[0m \u001b[0;31m# Python raises exceptions when it encounter errors. For example..\u001b[0m\u001b[0;34m\u001b[0m\u001b[0;34m\u001b[0m\u001b[0m\n\u001b[1;32m      2\u001b[0m \u001b[0;34m\u001b[0m\u001b[0m\n\u001b[0;32m----> 3\u001b[0;31m \u001b[0mPrint\u001b[0m\u001b[0;34m(\u001b[0m\u001b[0;34m'Hello!'\u001b[0m\u001b[0;34m)\u001b[0m \u001b[0;31m# -> NameError\u001b[0m\u001b[0;34m\u001b[0m\u001b[0m\n\u001b[0m",
      "\u001b[0;31mNameError\u001b[0m: name 'Print' is not defined"
     ]
    }
   ],
   "source": [
    "# Python raises exceptions when it encounter errors. For example..\n",
    "\n",
    "Print('Hello!') # -> NameError"
   ]
  },
  {
   "cell_type": "markdown",
   "metadata": {},
   "source": [
    "## `try, except, else, finally`"
   ]
  },
  {
   "cell_type": "code",
   "execution_count": 34,
   "metadata": {},
   "outputs": [
    {
     "name": "stdout",
     "output_type": "stream",
     "text": [
      "a\n"
     ]
    },
    {
     "ename": "TypeError",
     "evalue": "list indices must be integers or slices, not str",
     "output_type": "error",
     "traceback": [
      "\u001b[0;31m---------------------------------------------------------------------------\u001b[0m",
      "\u001b[0;31mTypeError\u001b[0m                                 Traceback (most recent call last)",
      "\u001b[0;32m<ipython-input-34-1906a890d6d6>\u001b[0m in \u001b[0;36m<module>\u001b[0;34m()\u001b[0m\n\u001b[1;32m      2\u001b[0m \u001b[0;34m\u001b[0m\u001b[0m\n\u001b[1;32m      3\u001b[0m \u001b[0;32mfor\u001b[0m \u001b[0mposition\u001b[0m \u001b[0;32min\u001b[0m \u001b[0;34m[\u001b[0m\u001b[0;36m0\u001b[0m\u001b[0;34m,\u001b[0m\u001b[0;34m'str'\u001b[0m\u001b[0;34m,\u001b[0m\u001b[0;36m1\u001b[0m\u001b[0;34m,\u001b[0m\u001b[0;36m2\u001b[0m\u001b[0;34m,\u001b[0m\u001b[0;36m3\u001b[0m\u001b[0;34m]\u001b[0m\u001b[0;34m:\u001b[0m\u001b[0;34m\u001b[0m\u001b[0m\n\u001b[0;32m----> 4\u001b[0;31m     \u001b[0mprint\u001b[0m\u001b[0;34m(\u001b[0m\u001b[0mshort_list\u001b[0m\u001b[0;34m[\u001b[0m\u001b[0mposition\u001b[0m\u001b[0;34m]\u001b[0m\u001b[0;34m)\u001b[0m\u001b[0;34m\u001b[0m\u001b[0m\n\u001b[0m",
      "\u001b[0;31mTypeError\u001b[0m: list indices must be integers or slices, not str"
     ]
    }
   ],
   "source": [
    "short_list = ['a', 'b', 'c']\n",
    "\n",
    "for position in [0,'str',1,2,3]:\n",
    "    print(short_list[position])"
   ]
  },
  {
   "cell_type": "code",
   "execution_count": 36,
   "metadata": {},
   "outputs": [
    {
     "name": "stdout",
     "output_type": "stream",
     "text": [
      "a\n",
      "b\n",
      "c\n"
     ]
    }
   ],
   "source": [
    "# try and except\n",
    "short_list = ['a', 'b', 'c']\n",
    "for position in [0,'str',1,2,3]:\n",
    "    try:\n",
    "        print(short_list[position]) # do something\n",
    "    except:                         # but if there is an exception\n",
    "        pass                        # do nothing"
   ]
  },
  {
   "cell_type": "code",
   "execution_count": 1,
   "metadata": {},
   "outputs": [
    {
     "name": "stdout",
     "output_type": "stream",
     "text": [
      "a\n",
      "success\n",
      "Finished\n",
      "type error: list indices must be integers or slices, not str\n",
      "Finished\n",
      "b\n",
      "success\n",
      "Finished\n",
      "c\n",
      "success\n",
      "Finished\n",
      "index error: list index out of range\n",
      "Finished\n"
     ]
    }
   ],
   "source": [
    "short_list = ['a', 'b', 'c']\n",
    "\n",
    "for position in [0,'str',1,2,3]:\n",
    "    try:\n",
    "        print(short_list[position])\n",
    "    except TypeError as type:       # If there is a TypeError,\n",
    "        print('type error:',type)         # print ('type error')\n",
    "    except IndexError as index:     # If there is a IndexError,\n",
    "        print('index error:',index)        # print ('index error')\n",
    "    except Exception as others :    # If there is a other exception,\n",
    "        print(others)               # print it's value.\n",
    "    else:                           # else: if there was no exception, execute it.\n",
    "        print('success')\n",
    "    finally:                        # finally: execute it regardless of exceptions.\n",
    "        print('Finished')"
   ]
  },
  {
   "cell_type": "code",
   "execution_count": 3,
   "metadata": {},
   "outputs": [
    {
     "name": "stdout",
     "output_type": "stream",
     "text": [
      "a\n",
      "success\n",
      "Finished\n",
      "Finished\n",
      "b\n",
      "success\n",
      "Finished\n",
      "c\n",
      "success\n",
      "Finished\n",
      "Finished\n"
     ]
    }
   ],
   "source": [
    "short_list = ['a', 'b', 'c']\n",
    "\n",
    "for position in [0,'str',1,2,3]:\n",
    "    try:\n",
    "        print(short_list[position])\n",
    "    except:\n",
    "        pass\n",
    "    else:                           # else: if there was no exception, execute it.\n",
    "        print('success')\n",
    "    finally:                        # finally: execute it regardless of exceptions.\n",
    "        print('Finished')"
   ]
  }
 ],
 "metadata": {
  "kernelspec": {
   "display_name": "Python 3",
   "language": "python",
   "name": "python3"
  },
  "language_info": {
   "codemirror_mode": {
    "name": "ipython",
    "version": 3
   },
   "file_extension": ".py",
   "mimetype": "text/x-python",
   "name": "python",
   "nbconvert_exporter": "python",
   "pygments_lexer": "ipython3",
   "version": "3.8.3"
  }
 },
 "nbformat": 4,
 "nbformat_minor": 2
}
