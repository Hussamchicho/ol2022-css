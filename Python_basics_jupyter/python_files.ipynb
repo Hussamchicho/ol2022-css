{
 "cells": [
  {
   "cell_type": "markdown",
   "metadata": {},
   "source": [
    "# Write and read files\n",
    "## Basics\n",
    "\n",
    "### modes:\n",
    "- ```r``` : read mode (default): use ```read()```, ```readline()```\n",
    "- ```w``` : write mode: existing files are overwritten. use ```write('string')```\n",
    "- ```a``` : write append mode: appending string at the end of the file\n",
    "### https://docs.python.org/3/library/functions.html#open"
   ]
  },
  {
   "cell_type": "markdown",
   "metadata": {},
   "source": [
    "## ```with open ( )``` : automatically closes the file"
   ]
  },
  {
   "cell_type": "markdown",
   "metadata": {},
   "source": [
    "### Write file\n",
    "Now let's create a text file, containing one sentence, 'hello world'."
   ]
  },
  {
   "cell_type": "code",
   "execution_count": 1,
   "metadata": {},
   "outputs": [],
   "source": [
    "with open('helloworld.txt', 'w') as f:\n",
    "    f.write('Hello world')"
   ]
  },
  {
   "cell_type": "markdown",
   "metadata": {},
   "source": [
    "Following code does the same thing shown above. But I recommend that you use ```with open ( )``` function to prevent forgetting to close the file."
   ]
  },
  {
   "cell_type": "code",
   "execution_count": 13,
   "metadata": {},
   "outputs": [],
   "source": [
    "f = open('helloworld.txt','w') # open in write (w) mode\n",
    "f.write('hello world')         # write a string\n",
    "f.close()                      # close file handle"
   ]
  },
  {
   "cell_type": "markdown",
   "metadata": {},
   "source": [
    "### Read file"
   ]
  },
  {
   "cell_type": "code",
   "execution_count": 2,
   "metadata": {},
   "outputs": [
    {
     "name": "stdout",
     "output_type": "stream",
     "text": [
      "Hello world\n"
     ]
    }
   ],
   "source": [
    "with open('helloworld.txt', 'r') as f:\n",
    "    message = f.read()\n",
    "    print(message)"
   ]
  },
  {
   "cell_type": "markdown",
   "metadata": {},
   "source": [
    "### Append"
   ]
  },
  {
   "cell_type": "code",
   "execution_count": 3,
   "metadata": {},
   "outputs": [],
   "source": [
    "with open('helloworld.txt', 'a') as f:\n",
    "    f.write('\\nhello world again')"
   ]
  },
  {
   "cell_type": "markdown",
   "metadata": {},
   "source": [
    "### `readline()` : use this when you have massive data"
   ]
  },
  {
   "cell_type": "code",
   "execution_count": 4,
   "metadata": {},
   "outputs": [
    {
     "name": "stdout",
     "output_type": "stream",
     "text": [
      "Hello world\n",
      "\n",
      "hello world again\n"
     ]
    }
   ],
   "source": [
    "with open('helloworld.txt') as f:\n",
    "    line = f.readline()\n",
    "    while line:\n",
    "        print(line)\n",
    "        line = f.readline()"
   ]
  },
  {
   "cell_type": "markdown",
   "metadata": {
    "collapsed": true
   },
   "source": [
    "### Example : Save a list to txt file"
   ]
  },
  {
   "cell_type": "code",
   "execution_count": 5,
   "metadata": {},
   "outputs": [],
   "source": [
    "# Let's save this list\n",
    "user = ['AfD', 'CDU', 'CSU', 'fdp', 'spdde', 'Die Gruenen', 'dieLinke']\n",
    "\n",
    "\n",
    "# example 1\n",
    "with open('germany_party_account.txt','w') as f:\n",
    "        for u in user:\n",
    "            f.write('{}\\n'.format(u)) # '\\n': new line"
   ]
  },
  {
   "cell_type": "code",
   "execution_count": 6,
   "metadata": {
    "collapsed": true
   },
   "outputs": [],
   "source": [
    "# example 2\n",
    "with open('germany_party_account2.txt', 'w') as f:\n",
    "    f.write(\"\\n\".join(user))"
   ]
  },
  {
   "cell_type": "markdown",
   "metadata": {},
   "source": [
    "### Example: Save a multiple column values to csv file"
   ]
  },
  {
   "cell_type": "code",
   "execution_count": 14,
   "metadata": {
    "collapsed": true
   },
   "outputs": [],
   "source": [
    "user_id = [844081278,20429858,21107582,39475170,26458162,14553288,44101578,35562287]"
   ]
  },
  {
   "cell_type": "code",
   "execution_count": 19,
   "metadata": {},
   "outputs": [],
   "source": [
    "with open('germany_party_account3.txt', 'w') as f:\n",
    "    for u, i in zip(user, user_id):\n",
    "        f.write('{},{}\\n'.format(u, i))  # '\\n': new line"
   ]
  },
  {
   "cell_type": "markdown",
   "metadata": {},
   "source": [
    "## CSV library"
   ]
  },
  {
   "cell_type": "code",
   "execution_count": 31,
   "metadata": {},
   "outputs": [],
   "source": [
    "import csv\n",
    "with open(\"germany_party_account4.csv\", \"w\") as f:\n",
    "    writer = csv.writer(f)\n",
    "    writer.writerow([\"username\",\"user_id\"])\n",
    "    for u,i in zip(user,user_id):\n",
    "        writer.writerow([u,i]) # <- It has to be a list !!! Be careful"
   ]
  },
  {
   "cell_type": "markdown",
   "metadata": {},
   "source": [
    "### You can store list of dict() format easily"
   ]
  },
  {
   "cell_type": "code",
   "execution_count": 37,
   "metadata": {},
   "outputs": [
    {
     "name": "stdout",
     "output_type": "stream",
     "text": [
      "[{'username': 'AfD', 'user_id': 844081278}, {'username': 'CDU', 'user_id': 20429858}, {'username': 'CSU', 'user_id': 21107582}, {'username': 'fdp', 'user_id': 39475170}, {'username': 'spdde', 'user_id': 26458162}, {'username': 'Die Gruenen', 'user_id': 14553288}, {'username': 'dieLinke', 'user_id': 44101578}]\n"
     ]
    }
   ],
   "source": [
    "# Lets store the info into the list of dictionary format\n",
    "\n",
    "list_of_dict= []\n",
    "for u, i in zip(user, user_id):\n",
    "    list_of_dict.append({'username':u, 'user_id':i})\n",
    "print(list_of_dict)"
   ]
  },
  {
   "cell_type": "code",
   "execution_count": 38,
   "metadata": {},
   "outputs": [],
   "source": [
    "with open('germany_party_account5.csv', 'w') as output_file:\n",
    "    fc = csv.DictWriter(output_file, fieldnames=list_of_dict[0].keys())\n",
    "    fc.writeheader()\n",
    "    fc.writerows(list_of_dict)"
   ]
  },
  {
   "cell_type": "markdown",
   "metadata": {},
   "source": [
    "## json format"
   ]
  },
  {
   "cell_type": "code",
   "execution_count": 63,
   "metadata": {},
   "outputs": [],
   "source": [
    "import json\n",
    "tweet = {\n",
    "    \"created_at\": 'Sat Feb 08 15:29:13 +0000 2020',\n",
    "    \"full_text\": \"I love python!\",\n",
    "    \"user\": {\n",
    "        \"id\": \"1234567890\",\n",
    "        \"screen_name\": \"PythonLover\"\n",
    "    }\n",
    "}"
   ]
  },
  {
   "cell_type": "code",
   "execution_count": 65,
   "metadata": {},
   "outputs": [
    {
     "data": {
      "text/plain": [
       "{'created_at': 'Sat Feb 08 15:29:13 +0000 2020',\n",
       " 'full_text': 'I love python!',\n",
       " 'user': {'id': '1234567890', 'screen_name': 'PythonLover'}}"
      ]
     },
     "execution_count": 65,
     "metadata": {},
     "output_type": "execute_result"
    }
   ],
   "source": [
    "tweet"
   ]
  },
  {
   "cell_type": "code",
   "execution_count": 66,
   "metadata": {},
   "outputs": [],
   "source": [
    "# Write tweet data into json format (Serialization)\n",
    "with open(\"tweet_example.json\", \"w\") as write_file:\n",
    "    json.dump(tweet, write_file)"
   ]
  },
  {
   "cell_type": "code",
   "execution_count": 68,
   "metadata": {},
   "outputs": [
    {
     "name": "stdout",
     "output_type": "stream",
     "text": [
      "{\"created_at\": \"Sat Feb 08 15:29:13 +0000 2020\", \"full_text\": \"I love python!\", \"user\": {\"id\": \"1234567890\", \"screen_name\": \"PythonLover\"}}\n"
     ]
    }
   ],
   "source": [
    "# If you want to check how it looks like:\n",
    "json.dumps(tweet) "
   ]
  },
  {
   "cell_type": "code",
   "execution_count": 69,
   "metadata": {},
   "outputs": [],
   "source": [
    "# Read json format file (Deserialization)\n",
    "with open(\"tweet_example.json\", \"r\") as read_file:\n",
    "    tweet2= json.load(read_file)"
   ]
  },
  {
   "cell_type": "code",
   "execution_count": 70,
   "metadata": {},
   "outputs": [
    {
     "data": {
      "text/plain": [
       "{'created_at': 'Sat Feb 08 15:29:13 +0000 2020',\n",
       " 'full_text': 'I love python!',\n",
       " 'user': {'id': '1234567890', 'screen_name': 'PythonLover'}}"
      ]
     },
     "execution_count": 70,
     "metadata": {},
     "output_type": "execute_result"
    }
   ],
   "source": [
    "tweet2"
   ]
  },
  {
   "cell_type": "markdown",
   "metadata": {},
   "source": [
    "## Pickle: Python object serialization\n",
    "You can pickling any python object! Pickle is a binary serialization format, so use 'wb' or 'rb' mode."
   ]
  },
  {
   "cell_type": "code",
   "execution_count": 72,
   "metadata": {},
   "outputs": [],
   "source": [
    "import pickle\n",
    "with open('tweet_example.pickle', 'wb') as f: # set 'wb' instead of 'w'\n",
    "    pickle.dump(data, f)"
   ]
  },
  {
   "cell_type": "code",
   "execution_count": 73,
   "metadata": {
    "collapsed": true
   },
   "outputs": [],
   "source": [
    "with open('tweet_example.pickle', 'rb') as f:\n",
    "    data = pickle.load(f)"
   ]
  },
  {
   "cell_type": "code",
   "execution_count": 74,
   "metadata": {},
   "outputs": [
    {
     "data": {
      "text/plain": [
       "{'created_at': 'Sat Feb 08 15:29:13 +0000 2020',\n",
       " 'full_text': 'I love python!',\n",
       " 'user': {'id': '1234567890', 'screen_name': 'PythonLover'}}"
      ]
     },
     "execution_count": 74,
     "metadata": {},
     "output_type": "execute_result"
    }
   ],
   "source": [
    "data"
   ]
  },
  {
   "cell_type": "code",
   "execution_count": null,
   "metadata": {
    "collapsed": true
   },
   "outputs": [],
   "source": []
  }
 ],
 "metadata": {
  "kernelspec": {
   "display_name": "Python 3",
   "language": "python",
   "name": "python3"
  },
  "language_info": {
   "codemirror_mode": {
    "name": "ipython",
    "version": 3
   },
   "file_extension": ".py",
   "mimetype": "text/x-python",
   "name": "python",
   "nbconvert_exporter": "python",
   "pygments_lexer": "ipython3",
   "version": "3.8.3"
  }
 },
 "nbformat": 4,
 "nbformat_minor": 2
}
